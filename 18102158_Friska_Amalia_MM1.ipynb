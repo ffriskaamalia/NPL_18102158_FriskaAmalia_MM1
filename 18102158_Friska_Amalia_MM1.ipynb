{
  "nbformat": 4,
  "nbformat_minor": 0,
  "metadata": {
    "colab": {
      "name": "18102158_Friska Amalia_MM1.ipynb",
      "provenance": [],
      "collapsed_sections": [],
      "include_colab_link": true
    },
    "kernelspec": {
      "name": "python3",
      "display_name": "Python 3"
    },
    "language_info": {
      "name": "python"
    }
  },
  "cells": [
    {
      "cell_type": "markdown",
      "metadata": {
        "id": "view-in-github",
        "colab_type": "text"
      },
      "source": [
        "<a href=\"https://colab.research.google.com/github/ffriskaamalia/NPL_18102158_FriskaAmalia_MM1/blob/main/18102158_Friska_Amalia_MM1.ipynb\" target=\"_parent\"><img src=\"https://colab.research.google.com/assets/colab-badge.svg\" alt=\"Open In Colab\"/></a>"
      ]
    },
    {
      "cell_type": "code",
      "metadata": {
        "id": "C1t3VaMupC2V"
      },
      "source": [
        "#konfigurasi googledrive\n",
        "from google.colab import drive"
      ],
      "execution_count": 19,
      "outputs": []
    },
    {
      "cell_type": "code",
      "metadata": {
        "colab": {
          "base_uri": "https://localhost:8080/"
        },
        "id": "RDr2aw0Hz5d7",
        "outputId": "1628d5b4-0f9d-42e6-9bf3-f03dec353ca9"
      },
      "source": [
        "drive.mount('/content/drive')\n",
        "file_url = '/content/drive/My Drive/tugas1/spamfilteringsederhana/SMSSpamCollection.txt'"
      ],
      "execution_count": 20,
      "outputs": [
        {
          "output_type": "stream",
          "text": [
            "Mounted at /content/drive\n"
          ],
          "name": "stdout"
        }
      ]
    },
    {
      "cell_type": "code",
      "metadata": {
        "colab": {
          "base_uri": "https://localhost:8080/",
          "height": 195
        },
        "id": "28HlvD2z0ClG",
        "outputId": "7b6a9ef8-836f-465b-f7cf-77d2c0bacc33"
      },
      "source": [
        "import pandas as pd\n",
        "data = pd.read_csv(file_url,sep = '\\t', header=None, names=[\"label\", \"sms\"])\n",
        "data.head()"
      ],
      "execution_count": 21,
      "outputs": [
        {
          "output_type": "execute_result",
          "data": {
            "text/html": [
              "<div>\n",
              "<style scoped>\n",
              "    .dataframe tbody tr th:only-of-type {\n",
              "        vertical-align: middle;\n",
              "    }\n",
              "\n",
              "    .dataframe tbody tr th {\n",
              "        vertical-align: top;\n",
              "    }\n",
              "\n",
              "    .dataframe thead th {\n",
              "        text-align: right;\n",
              "    }\n",
              "</style>\n",
              "<table border=\"1\" class=\"dataframe\">\n",
              "  <thead>\n",
              "    <tr style=\"text-align: right;\">\n",
              "      <th></th>\n",
              "      <th>label</th>\n",
              "      <th>sms</th>\n",
              "    </tr>\n",
              "  </thead>\n",
              "  <tbody>\n",
              "    <tr>\n",
              "      <th>0</th>\n",
              "      <td>ham</td>\n",
              "      <td>Go until jurong point, crazy.. Available only ...</td>\n",
              "    </tr>\n",
              "    <tr>\n",
              "      <th>1</th>\n",
              "      <td>ham</td>\n",
              "      <td>Ok lar... Joking wif u oni...</td>\n",
              "    </tr>\n",
              "    <tr>\n",
              "      <th>2</th>\n",
              "      <td>spam</td>\n",
              "      <td>Free entry in 2 a wkly comp to win FA Cup fina...</td>\n",
              "    </tr>\n",
              "    <tr>\n",
              "      <th>3</th>\n",
              "      <td>ham</td>\n",
              "      <td>U dun say so early hor... U c already then say...</td>\n",
              "    </tr>\n",
              "    <tr>\n",
              "      <th>4</th>\n",
              "      <td>ham</td>\n",
              "      <td>Nah I don't think he goes to usf, he lives aro...</td>\n",
              "    </tr>\n",
              "  </tbody>\n",
              "</table>\n",
              "</div>"
            ],
            "text/plain": [
              "  label                                                sms\n",
              "0   ham  Go until jurong point, crazy.. Available only ...\n",
              "1   ham                      Ok lar... Joking wif u oni...\n",
              "2  spam  Free entry in 2 a wkly comp to win FA Cup fina...\n",
              "3   ham  U dun say so early hor... U c already then say...\n",
              "4   ham  Nah I don't think he goes to usf, he lives aro..."
            ]
          },
          "metadata": {
            "tags": []
          },
          "execution_count": 21
        }
      ]
    },
    {
      "cell_type": "code",
      "metadata": {
        "colab": {
          "base_uri": "https://localhost:8080/"
        },
        "id": "qnkTZM7T0TDH",
        "outputId": "12ee86da-0449-4db3-acae-c7644862da2b"
      },
      "source": [
        "#Pemrosesan\n",
        "import string\n",
        "import nltk\n",
        "nltk.download('stopwords')\n",
        "nltk.download('punkt')\n",
        "\n",
        "stopwords = nltk.corpus.stopwords.words('english')\n",
        "punctuation = string.punctuation\n",
        "\n",
        "print(stopwords[:5])\n",
        "print(punctuation)"
      ],
      "execution_count": 22,
      "outputs": [
        {
          "output_type": "stream",
          "text": [
            "[nltk_data] Downloading package stopwords to /root/nltk_data...\n",
            "[nltk_data]   Unzipping corpora/stopwords.zip.\n",
            "[nltk_data] Downloading package punkt to /root/nltk_data...\n",
            "[nltk_data]   Unzipping tokenizers/punkt.zip.\n",
            "['i', 'me', 'my', 'myself', 'we']\n",
            "!\"#$%&'()*+,-./:;<=>?@[\\]^_`{|}~\n"
          ],
          "name": "stdout"
        }
      ]
    },
    {
      "cell_type": "code",
      "metadata": {
        "colab": {
          "base_uri": "https://localhost:8080/"
        },
        "id": "IxGYB4Ia0fZU",
        "outputId": "09b7daae-7432-413c-8c81-7e9bbbc3a15e"
      },
      "source": [
        "def pre_process(sms):\n",
        "    remove_punct = \"\".join([word.lower() for word in sms if word not in punctuation])\n",
        "    tokenize = nltk.tokenize.word_tokenize(remove_punct)\n",
        "    remove_stopwords = [word for word in tokenize if word not in stopwords]\n",
        "    return remove_stopwords\n",
        "\n",
        "#tambah kolom ke data pesan yang ingin diproses\n",
        "data['processed'] = data['sms'].apply(lambda x: pre_process(x))\n",
        "\n",
        "print(data['processed'].head())"
      ],
      "execution_count": 23,
      "outputs": [
        {
          "output_type": "stream",
          "text": [
            "0    [go, jurong, point, crazy, available, bugis, n...\n",
            "1                       [ok, lar, joking, wif, u, oni]\n",
            "2    [free, entry, 2, wkly, comp, win, fa, cup, fin...\n",
            "3        [u, dun, say, early, hor, u, c, already, say]\n",
            "4    [nah, dont, think, goes, usf, lives, around, t...\n",
            "Name: processed, dtype: object\n"
          ],
          "name": "stdout"
        }
      ]
    },
    {
      "cell_type": "code",
      "metadata": {
        "colab": {
          "base_uri": "https://localhost:8080/"
        },
        "id": "buBmP7dp1vI1",
        "outputId": "805cdb73-7185-46ef-a11c-dd2ef05d774a"
      },
      "source": [
        "#tahap selanjutnya pengelompokkan dan menghitung token, menentukan threshold\n",
        "\n",
        "def categorize_words():\n",
        "    spam_words = []\n",
        "    ham_words = []\n",
        "    #memproses pesan yang termasuk spam\n",
        "    for sms in data['processed'][data['label'] == 'spam']:\n",
        "        for word in sms:\n",
        "            spam_words.append(word)\n",
        "    #memproses pesan yang termasuk ham\n",
        "    for sms in data['processed'][data['label'] == 'ham']:\n",
        "        for word in sms:\n",
        "            ham_words.append(word)\n",
        "    return spam_words, ham_words\n",
        "\n",
        "spam_words, ham_words = categorize_words()\n",
        "\n",
        "print(spam_words[:5])\n",
        "print(ham_words[:5])"
      ],
      "execution_count": 24,
      "outputs": [
        {
          "output_type": "stream",
          "text": [
            "['free', 'entry', '2', 'wkly', 'comp']\n",
            "['go', 'jurong', 'point', 'crazy', 'available']\n"
          ],
          "name": "stdout"
        }
      ]
    },
    {
      "cell_type": "code",
      "metadata": {
        "id": "ZWnMYq2S2-9W"
      },
      "source": [
        "#selanjutnya, prediksi fungsi dengan threshold 5:5 x 100 = {}%\n",
        "def predict(sms):\n",
        "    spam_counter = 0\n",
        "    ham_counter = 0\n",
        "    #menghitung kemunculan kata sms\n",
        "    for word in sms:\n",
        "        spam_counter += spam_words.count(word)\n",
        "        ham_counter += ham_words.count(word)\n",
        "    print('***HASIL AKHIR***')\n",
        "    #makapesan spam dengan dikalikan 100\n",
        "    if ham_counter > spam_counter:\n",
        "        accuracy = round((ham_counter / (ham_counter + spam_counter) * 100))\n",
        "        print('pesan tidak mengandung spam, angka keputusan {}%'.format(accuracy))\n",
        "        #menampilkan pesan apabila ham atau spam\n",
        "    elif ham_counter == spam_counter:\n",
        "        print('pesan mengandung spam')\n",
        "    #menampilkan pesan apabila ham atau spam dengan akurasinya\n",
        "    else:\n",
        "        accuracy = round((spam_counter / (ham_counter + spam_counter)* 100))\n",
        "        print('pesan mengandung spam, angka keputusan {}%'.format(accuracy))"
      ],
      "execution_count": 25,
      "outputs": []
    },
    {
      "cell_type": "code",
      "metadata": {
        "colab": {
          "base_uri": "https://localhost:8080/"
        },
        "id": "PAZZVrDN32UI",
        "outputId": "13227481-8171-4abe-f9c1-8a48053c95a6"
      },
      "source": [
        "user_input = input(\"Inputkan spam atau ham guna memeriksa keakuratan fungsi\\n\")"
      ],
      "execution_count": 26,
      "outputs": [
        {
          "output_type": "stream",
          "text": [
            "Inputkan spam atau ham guna memeriksa keakuratan fungsi\n",
            "oh oke\n"
          ],
          "name": "stdout"
        }
      ]
    },
    {
      "cell_type": "code",
      "metadata": {
        "colab": {
          "base_uri": "https://localhost:8080/"
        },
        "id": "Ms7oxAJ24i7f",
        "outputId": "8c895090-1497-4329-f4b0-ed7badc86a18"
      },
      "source": [
        "processed_input = pre_process(user_input)\n",
        "predict(processed_input)"
      ],
      "execution_count": 27,
      "outputs": [
        {
          "output_type": "stream",
          "text": [
            "***HASIL AKHIR***\n",
            "pesan tidak mengandung spam, angka keputusan 99%\n"
          ],
          "name": "stdout"
        }
      ]
    }
  ]
}